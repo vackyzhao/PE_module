{
 "cells": [
  {
   "cell_type": "code",
   "execution_count": 1,
   "metadata": {},
   "outputs": [
    {
     "name": "stdout",
     "output_type": "stream",
     "text": [
      "2.14.0\n"
     ]
    }
   ],
   "source": [
    "import tensorflow as tf\n",
    "import numpy as np\n",
    "import os\n",
    "os.environ['TF_CPP_MIN_LOG_LEVEL'] = '2'\n",
    "import h5py\n",
    "import cv2 as cv\n",
    "import random\n",
    "import csv\n",
    "import time\n",
    "import string\n",
    "import logging\n",
    "logging.getLogger(\"tensorflow\").setLevel(logging.DEBUG)\n",
    "\n",
    "\n",
    "print(tf.__version__)\n",
    "mnist = tf.keras.datasets.mnist\n",
    "\n",
    "# (x_train, y_train), (x_test, y_test) = mnist.load_data()\n",
    "# x_train, x_test = x_train, x_test \n",
    "# print(x_train.shape)\n",
    "\n",
    "\n"
   ]
  },
  {
   "cell_type": "markdown",
   "metadata": {},
   "source": [
    "# Build Dataset"
   ]
  },
  {
   "cell_type": "code",
   "execution_count": 2,
   "metadata": {},
   "outputs": [
    {
     "name": "stdout",
     "output_type": "stream",
     "text": [
      "(13577, 24, 32, 1)\n"
     ]
    }
   ],
   "source": [
    "pth  = \"H:\\Datasets\\\\asl_ir\"\n",
    "names = [*string.ascii_uppercase] + [\"others\"]\n",
    "id = list(range(len(names)))\n",
    "fdict = dict(zip(names, id))\n",
    "def dataset(pth, fdict, transform):\n",
    "    labels = os.listdir(pth)\n",
    "    labels_pth = [os.path.join(pth, i) for i in labels]\n",
    "    samples_pth = []\n",
    "    for i in labels_pth:\n",
    "        samples = os.listdir(i)\n",
    "        samples_pth += [os.path.join(i, j) for j in samples]\n",
    "        \n",
    "    labels = [fdict[i.split(\"\\\\\")[3]] for i in samples_pth]\n",
    "\n",
    "    # print(samples_pth)\n",
    "    d_sl = dict(zip(samples_pth, labels))\n",
    "    l_sl = list(d_sl.items())\n",
    "    random.shuffle(l_sl)\n",
    "    # print(len(l_sl))\n",
    "    d_sl = dict(l_sl)\n",
    "    samples_pth = list(d_sl.keys())\n",
    "    labels = list(d_sl.values())\n",
    "\n",
    "    \n",
    "    features = []\n",
    "    for sample in samples_pth:\n",
    "        x = tf.io.read_file(sample)\n",
    "        x = tf.image.decode_png(x, channels=1)\n",
    "        # tf.print(x, summarize=-1)\n",
    "        features.append(x)\n",
    "\n",
    "    features = tf.convert_to_tensor(features)\n",
    "    labels = tf.convert_to_tensor(labels)\n",
    "\n",
    "    \n",
    "    \n",
    "\n",
    "    return features / 255, labels / 255\n",
    "    \n",
    "features, labels = dataset(pth, fdict, None)\n",
    "features = tf.cast(features, dtype=tf.float32)\n",
    "labels = tf.cast(labels, dtype=tf.int32)\n",
    "\n",
    "print(features.shape)\n",
    "    "
   ]
  },
  {
   "cell_type": "code",
   "execution_count": 3,
   "metadata": {},
   "outputs": [],
   "source": [
    "checkpoint_path = \"checkpoint\\\\asl_cnn.ckpt\"\n",
    "checkpoint_dir = os.path.dirname(checkpoint_path)\n",
    "cp_callback = tf.keras.callbacks.ModelCheckpoint(checkpoint_path, save_weights_only=True, verbose=1)\n"
   ]
  },
  {
   "cell_type": "code",
   "execution_count": 4,
   "metadata": {},
   "outputs": [],
   "source": [
    "model = tf.keras.models.Sequential([\n",
    "    tf.keras.layers.Conv2D(4, 3, 1, \"same\", use_bias=False, activation=\"relu\", input_shape = (24, 32, 1)),\n",
    "    tf.keras.layers.MaxPool2D((2, 2), 2, \"valid\"),\n",
    "    tf.keras.layers.Conv2D(8, 3, 1, \"same\", use_bias=False, activation=\"relu\", input_shape = (12, 16, 4)),\n",
    "    tf.keras.layers.MaxPool2D((2, 2), 2, \"valid\"),\n",
    "    tf.keras.layers.Flatten(input_shape=(6, 8, 8)),\n",
    "    tf.keras.layers.Dense(29, use_bias=False)\n",
    "])"
   ]
  },
  {
   "cell_type": "code",
   "execution_count": 5,
   "metadata": {},
   "outputs": [
    {
     "data": {
      "text/plain": [
       "(1, 29)"
      ]
     },
     "execution_count": 5,
     "metadata": {},
     "output_type": "execute_result"
    }
   ],
   "source": [
    "features.shape\n",
    "predictions = model(features[:1]).numpy()\n",
    "predictions.shape"
   ]
  },
  {
   "cell_type": "code",
   "execution_count": 6,
   "metadata": {},
   "outputs": [
    {
     "data": {
      "text/plain": [
       "array([[0.03668215, 0.02609754, 0.05482464, 0.0316794 , 0.02074584,\n",
       "        0.03317521, 0.02607555, 0.03307397, 0.07643749, 0.04232602,\n",
       "        0.0342639 , 0.01356987, 0.04515065, 0.04674816, 0.03231414,\n",
       "        0.0222114 , 0.04350029, 0.03320287, 0.03721156, 0.0568554 ,\n",
       "        0.04067527, 0.02103482, 0.03268131, 0.03824433, 0.02794551,\n",
       "        0.02238769, 0.03199641, 0.02333256, 0.01555608]], dtype=float32)"
      ]
     },
     "execution_count": 6,
     "metadata": {},
     "output_type": "execute_result"
    }
   ],
   "source": [
    "tf.nn.softmax(predictions).numpy()"
   ]
  },
  {
   "cell_type": "code",
   "execution_count": 7,
   "metadata": {},
   "outputs": [],
   "source": [
    "loss_fn = tf.keras.losses.SparseCategoricalCrossentropy(from_logits=True)"
   ]
  },
  {
   "cell_type": "code",
   "execution_count": 8,
   "metadata": {},
   "outputs": [
    {
     "data": {
      "text/plain": [
       "3.3054652"
      ]
     },
     "execution_count": 8,
     "metadata": {},
     "output_type": "execute_result"
    }
   ],
   "source": [
    "loss_fn(labels[:1], predictions).numpy()"
   ]
  },
  {
   "cell_type": "code",
   "execution_count": 9,
   "metadata": {},
   "outputs": [],
   "source": [
    "model.compile(optimizer='adam',\n",
    "            loss=loss_fn,\n",
    "            metrics=['accuracy'])"
   ]
  },
  {
   "cell_type": "code",
   "execution_count": 10,
   "metadata": {},
   "outputs": [
    {
     "name": "stdout",
     "output_type": "stream",
     "text": [
      "Epoch 1/100\n",
      "210/213 [============================>.] - ETA: 0s - loss: 0.2186 - accuracy: 0.9685\n",
      "Epoch 1: saving model to checkpoint\\asl_cnn.ckpt\n",
      "213/213 [==============================] - 2s 6ms/step - loss: 0.2164 - accuracy: 0.9688\n",
      "Epoch 2/100\n",
      "208/213 [============================>.] - ETA: 0s - loss: 0.0054 - accuracy: 1.0000\n",
      "Epoch 2: saving model to checkpoint\\asl_cnn.ckpt\n",
      "213/213 [==============================] - 1s 6ms/step - loss: 0.0053 - accuracy: 1.0000\n",
      "Epoch 3/100\n",
      "212/213 [============================>.] - ETA: 0s - loss: 0.0033 - accuracy: 1.0000\n",
      "Epoch 3: saving model to checkpoint\\asl_cnn.ckpt\n",
      "213/213 [==============================] - 1s 7ms/step - loss: 0.0034 - accuracy: 1.0000\n",
      "Epoch 4/100\n",
      "208/213 [============================>.] - ETA: 0s - loss: 0.0027 - accuracy: 1.0000\n",
      "Epoch 4: saving model to checkpoint\\asl_cnn.ckpt\n",
      "213/213 [==============================] - 2s 8ms/step - loss: 0.0027 - accuracy: 1.0000\n",
      "Epoch 5/100\n",
      "212/213 [============================>.] - ETA: 0s - loss: 0.0022 - accuracy: 1.0000\n",
      "Epoch 5: saving model to checkpoint\\asl_cnn.ckpt\n",
      "213/213 [==============================] - 1s 5ms/step - loss: 0.0024 - accuracy: 1.0000\n",
      "Epoch 6/100\n",
      "209/213 [============================>.] - ETA: 0s - loss: 0.0022 - accuracy: 1.0000\n",
      "Epoch 6: saving model to checkpoint\\asl_cnn.ckpt\n",
      "213/213 [==============================] - 1s 6ms/step - loss: 0.0021 - accuracy: 1.0000\n",
      "Epoch 7/100\n",
      "205/213 [===========================>..] - ETA: 0s - loss: 0.0021 - accuracy: 1.0000\n",
      "Epoch 7: saving model to checkpoint\\asl_cnn.ckpt\n",
      "213/213 [==============================] - 1s 6ms/step - loss: 0.0020 - accuracy: 1.0000\n",
      "Epoch 8/100\n",
      "208/213 [============================>.] - ETA: 0s - loss: 0.0019 - accuracy: 1.0000\n",
      "Epoch 8: saving model to checkpoint\\asl_cnn.ckpt\n",
      "213/213 [==============================] - 1s 6ms/step - loss: 0.0019 - accuracy: 1.0000\n",
      "Epoch 9/100\n",
      "212/213 [============================>.] - ETA: 0s - loss: 0.0018 - accuracy: 1.0000\n",
      "Epoch 9: saving model to checkpoint\\asl_cnn.ckpt\n",
      "213/213 [==============================] - 1s 6ms/step - loss: 0.0018 - accuracy: 1.0000\n",
      "Epoch 10/100\n",
      "207/213 [============================>.] - ETA: 0s - loss: 0.0017 - accuracy: 1.0000\n",
      "Epoch 10: saving model to checkpoint\\asl_cnn.ckpt\n",
      "213/213 [==============================] - 1s 6ms/step - loss: 0.0017 - accuracy: 1.0000\n",
      "Epoch 11/100\n",
      "210/213 [============================>.] - ETA: 0s - loss: 0.0016 - accuracy: 1.0000\n",
      "Epoch 11: saving model to checkpoint\\asl_cnn.ckpt\n",
      "213/213 [==============================] - 1s 6ms/step - loss: 0.0016 - accuracy: 1.0000\n",
      "Epoch 12/100\n",
      "204/213 [===========================>..] - ETA: 0s - loss: 0.0015 - accuracy: 1.0000\n",
      "Epoch 12: saving model to checkpoint\\asl_cnn.ckpt\n",
      "213/213 [==============================] - 1s 6ms/step - loss: 0.0015 - accuracy: 1.0000\n",
      "Epoch 13/100\n",
      "210/213 [============================>.] - ETA: 0s - loss: 0.0014 - accuracy: 1.0000\n",
      "Epoch 13: saving model to checkpoint\\asl_cnn.ckpt\n",
      "213/213 [==============================] - 1s 5ms/step - loss: 0.0014 - accuracy: 1.0000\n",
      "Epoch 14/100\n",
      "210/213 [============================>.] - ETA: 0s - loss: 0.0014 - accuracy: 1.0000\n",
      "Epoch 14: saving model to checkpoint\\asl_cnn.ckpt\n",
      "213/213 [==============================] - 1s 6ms/step - loss: 0.0013 - accuracy: 1.0000\n",
      "Epoch 15/100\n",
      "207/213 [============================>.] - ETA: 0s - loss: 0.0013 - accuracy: 1.0000\n",
      "Epoch 15: saving model to checkpoint\\asl_cnn.ckpt\n",
      "213/213 [==============================] - 1s 7ms/step - loss: 0.0013 - accuracy: 1.0000\n",
      "Epoch 16/100\n",
      "209/213 [============================>.] - ETA: 0s - loss: 0.0013 - accuracy: 1.0000\n",
      "Epoch 16: saving model to checkpoint\\asl_cnn.ckpt\n",
      "213/213 [==============================] - 1s 6ms/step - loss: 0.0012 - accuracy: 1.0000\n",
      "Epoch 17/100\n",
      "213/213 [==============================] - ETA: 0s - loss: 0.0012 - accuracy: 1.0000\n",
      "Epoch 17: saving model to checkpoint\\asl_cnn.ckpt\n",
      "213/213 [==============================] - 1s 6ms/step - loss: 0.0012 - accuracy: 1.0000\n",
      "Epoch 18/100\n",
      "206/213 [============================>.] - ETA: 0s - loss: 0.0012 - accuracy: 1.0000\n",
      "Epoch 18: saving model to checkpoint\\asl_cnn.ckpt\n",
      "213/213 [==============================] - 1s 6ms/step - loss: 0.0012 - accuracy: 1.0000\n",
      "Epoch 19/100\n",
      "209/213 [============================>.] - ETA: 0s - loss: 0.0011 - accuracy: 1.0000    \n",
      "Epoch 19: saving model to checkpoint\\asl_cnn.ckpt\n",
      "213/213 [==============================] - 1s 7ms/step - loss: 0.0011 - accuracy: 1.0000\n",
      "Epoch 20/100\n",
      "209/213 [============================>.] - ETA: 0s - loss: 0.0011 - accuracy: 1.0000\n",
      "Epoch 20: saving model to checkpoint\\asl_cnn.ckpt\n",
      "213/213 [==============================] - 1s 6ms/step - loss: 0.0011 - accuracy: 1.0000\n",
      "Epoch 21/100\n",
      "206/213 [============================>.] - ETA: 0s - loss: 0.0011 - accuracy: 1.0000\n",
      "Epoch 21: saving model to checkpoint\\asl_cnn.ckpt\n",
      "213/213 [==============================] - 1s 6ms/step - loss: 0.0011 - accuracy: 1.0000\n",
      "Epoch 22/100\n",
      "209/213 [============================>.] - ETA: 0s - loss: 0.0011 - accuracy: 1.0000\n",
      "Epoch 22: saving model to checkpoint\\asl_cnn.ckpt\n",
      "213/213 [==============================] - 1s 7ms/step - loss: 0.0010 - accuracy: 1.0000\n",
      "Epoch 23/100\n",
      "204/213 [===========================>..] - ETA: 0s - loss: 0.0011 - accuracy: 1.0000\n",
      "Epoch 23: saving model to checkpoint\\asl_cnn.ckpt\n",
      "213/213 [==============================] - 2s 7ms/step - loss: 0.0010 - accuracy: 1.0000\n",
      "Epoch 24/100\n",
      "209/213 [============================>.] - ETA: 0s - loss: 0.0010 - accuracy: 1.0000\n",
      "Epoch 24: saving model to checkpoint\\asl_cnn.ckpt\n",
      "213/213 [==============================] - 1s 6ms/step - loss: 9.9717e-04 - accuracy: 1.0000\n",
      "Epoch 25/100\n",
      "207/213 [============================>.] - ETA: 0s - loss: 9.9812e-04 - accuracy: 1.0000\n",
      "Epoch 25: saving model to checkpoint\\asl_cnn.ckpt\n",
      "213/213 [==============================] - 1s 5ms/step - loss: 9.7394e-04 - accuracy: 1.0000\n",
      "Epoch 26/100\n",
      "203/213 [===========================>..] - ETA: 0s - loss: 9.9538e-04 - accuracy: 1.0000\n",
      "Epoch 26: saving model to checkpoint\\asl_cnn.ckpt\n",
      "213/213 [==============================] - 1s 6ms/step - loss: 9.5285e-04 - accuracy: 1.0000\n",
      "Epoch 27/100\n",
      "205/213 [===========================>..] - ETA: 0s - loss: 9.6507e-04 - accuracy: 1.0000\n",
      "Epoch 27: saving model to checkpoint\\asl_cnn.ckpt\n",
      "213/213 [==============================] - 1s 5ms/step - loss: 9.3258e-04 - accuracy: 1.0000\n",
      "Epoch 28/100\n",
      "205/213 [===========================>..] - ETA: 0s - loss: 9.4510e-04 - accuracy: 1.0000\n",
      "Epoch 28: saving model to checkpoint\\asl_cnn.ckpt\n",
      "213/213 [==============================] - 1s 6ms/step - loss: 9.1329e-04 - accuracy: 1.0000\n",
      "Epoch 29/100\n",
      "206/213 [============================>.] - ETA: 0s - loss: 9.2201e-04 - accuracy: 1.0000\n",
      "Epoch 29: saving model to checkpoint\\asl_cnn.ckpt\n",
      "213/213 [==============================] - 1s 6ms/step - loss: 8.9532e-04 - accuracy: 1.0000\n",
      "Epoch 30/100\n",
      "212/213 [============================>.] - ETA: 0s - loss: 8.7731e-04 - accuracy: 1.0000\n",
      "Epoch 30: saving model to checkpoint\\asl_cnn.ckpt\n",
      "213/213 [==============================] - 1s 6ms/step - loss: 8.7673e-04 - accuracy: 1.0000\n",
      "Epoch 31/100\n",
      "205/213 [===========================>..] - ETA: 0s - loss: 8.8995e-04 - accuracy: 1.0000\n",
      "Epoch 31: saving model to checkpoint\\asl_cnn.ckpt\n",
      "213/213 [==============================] - 1s 5ms/step - loss: 8.6000e-04 - accuracy: 1.0000\n",
      "Epoch 32/100\n",
      "210/213 [============================>.] - ETA: 0s - loss: 8.5325e-04 - accuracy: 1.0000\n",
      "Epoch 32: saving model to checkpoint\\asl_cnn.ckpt\n",
      "213/213 [==============================] - 1s 6ms/step - loss: 8.4464e-04 - accuracy: 1.0000\n",
      "Epoch 33/100\n",
      "211/213 [============================>.] - ETA: 0s - loss: 8.3494e-04 - accuracy: 1.0000\n",
      "Epoch 33: saving model to checkpoint\\asl_cnn.ckpt\n",
      "213/213 [==============================] - 1s 5ms/step - loss: 8.3045e-04 - accuracy: 1.0000\n",
      "Epoch 34/100\n",
      "204/213 [===========================>..] - ETA: 0s - loss: 8.3419e-04 - accuracy: 1.0000\n",
      "Epoch 34: saving model to checkpoint\\asl_cnn.ckpt\n",
      "213/213 [==============================] - 1s 6ms/step - loss: 8.1804e-04 - accuracy: 1.0000\n",
      "Epoch 35/100\n",
      "207/213 [============================>.] - ETA: 0s - loss: 8.2645e-04 - accuracy: 1.0000\n",
      "Epoch 35: saving model to checkpoint\\asl_cnn.ckpt\n",
      "213/213 [==============================] - 1s 6ms/step - loss: 8.0642e-04 - accuracy: 1.0000\n",
      "Epoch 36/100\n",
      "210/213 [============================>.] - ETA: 0s - loss: 8.0444e-04 - accuracy: 1.0000\n",
      "Epoch 36: saving model to checkpoint\\asl_cnn.ckpt\n",
      "213/213 [==============================] - 1s 6ms/step - loss: 7.9632e-04 - accuracy: 1.0000\n",
      "Epoch 37/100\n",
      "210/213 [============================>.] - ETA: 0s - loss: 7.9634e-04 - accuracy: 1.0000\n",
      "Epoch 37: saving model to checkpoint\\asl_cnn.ckpt\n",
      "213/213 [==============================] - 1s 6ms/step - loss: 7.8831e-04 - accuracy: 1.0000\n",
      "Epoch 38/100\n",
      "208/213 [============================>.] - ETA: 0s - loss: 7.9538e-04 - accuracy: 1.0000\n",
      "Epoch 38: saving model to checkpoint\\asl_cnn.ckpt\n",
      "213/213 [==============================] - 1s 6ms/step - loss: 7.7986e-04 - accuracy: 1.0000\n",
      "Epoch 39/100\n",
      "208/213 [============================>.] - ETA: 0s - loss: 7.8870e-04 - accuracy: 1.0000\n",
      "Epoch 39: saving model to checkpoint\\asl_cnn.ckpt\n",
      "213/213 [==============================] - 1s 6ms/step - loss: 7.7331e-04 - accuracy: 1.0000\n",
      "Epoch 40/100\n",
      "211/213 [============================>.] - ETA: 0s - loss: 7.7175e-04 - accuracy: 1.0000\n",
      "Epoch 40: saving model to checkpoint\\asl_cnn.ckpt\n",
      "213/213 [==============================] - 1s 6ms/step - loss: 7.6761e-04 - accuracy: 1.0000\n",
      "Epoch 41/100\n",
      "208/213 [============================>.] - ETA: 0s - loss: 7.7793e-04 - accuracy: 1.0000\n",
      "Epoch 41: saving model to checkpoint\\asl_cnn.ckpt\n",
      "213/213 [==============================] - 1s 6ms/step - loss: 7.6275e-04 - accuracy: 1.0000\n",
      "Epoch 42/100\n",
      "205/213 [===========================>..] - ETA: 0s - loss: 7.8481e-04 - accuracy: 1.0000\n",
      "Epoch 42: saving model to checkpoint\\asl_cnn.ckpt\n",
      "213/213 [==============================] - 1s 7ms/step - loss: 7.5839e-04 - accuracy: 1.0000\n",
      "Epoch 43/100\n",
      "208/213 [============================>.] - ETA: 0s - loss: 7.6968e-04 - accuracy: 1.0000\n",
      "Epoch 43: saving model to checkpoint\\asl_cnn.ckpt\n",
      "213/213 [==============================] - 1s 7ms/step - loss: 7.5466e-04 - accuracy: 1.0000\n",
      "Epoch 44/100\n",
      "207/213 [============================>.] - ETA: 0s - loss: 7.7003e-04 - accuracy: 1.0000\n",
      "Epoch 44: saving model to checkpoint\\asl_cnn.ckpt\n",
      "213/213 [==============================] - 1s 7ms/step - loss: 7.5137e-04 - accuracy: 1.0000\n",
      "Epoch 45/100\n",
      "204/213 [===========================>..] - ETA: 0s - loss: 7.7836e-04 - accuracy: 1.0000\n",
      "Epoch 45: saving model to checkpoint\\asl_cnn.ckpt\n",
      "213/213 [==============================] - 1s 6ms/step - loss: 7.4849e-04 - accuracy: 1.0000\n",
      "Epoch 46/100\n",
      "207/213 [============================>.] - ETA: 0s - loss: 7.6451e-04 - accuracy: 1.0000\n",
      "Epoch 46: saving model to checkpoint\\asl_cnn.ckpt\n",
      "213/213 [==============================] - 1s 6ms/step - loss: 7.4598e-04 - accuracy: 1.0000\n",
      "Epoch 47/100\n",
      "209/213 [============================>.] - ETA: 0s - loss: 7.5505e-04 - accuracy: 1.0000\n",
      "Epoch 47: saving model to checkpoint\\asl_cnn.ckpt\n",
      "213/213 [==============================] - 1s 7ms/step - loss: 7.4387e-04 - accuracy: 1.0000\n",
      "Epoch 48/100\n",
      "205/213 [===========================>..] - ETA: 0s - loss: 7.6788e-04 - accuracy: 1.0000\n",
      "Epoch 48: saving model to checkpoint\\asl_cnn.ckpt\n",
      "213/213 [==============================] - 1s 7ms/step - loss: 7.4203e-04 - accuracy: 1.0000\n",
      "Epoch 49/100\n",
      "207/213 [============================>.] - ETA: 0s - loss: 7.5873e-04 - accuracy: 1.0000\n",
      "Epoch 49: saving model to checkpoint\\asl_cnn.ckpt\n",
      "213/213 [==============================] - 1s 7ms/step - loss: 7.4034e-04 - accuracy: 1.0000\n",
      "Epoch 50/100\n",
      "209/213 [============================>.] - ETA: 0s - loss: 7.4991e-04 - accuracy: 1.0000\n",
      "Epoch 50: saving model to checkpoint\\asl_cnn.ckpt\n",
      "213/213 [==============================] - 1s 7ms/step - loss: 7.3881e-04 - accuracy: 1.0000\n",
      "Epoch 51/100\n",
      "210/213 [============================>.] - ETA: 0s - loss: 7.4495e-04 - accuracy: 1.0000\n",
      "Epoch 51: saving model to checkpoint\\asl_cnn.ckpt\n",
      "213/213 [==============================] - 2s 8ms/step - loss: 7.3743e-04 - accuracy: 1.0000\n",
      "Epoch 52/100\n",
      "211/213 [============================>.] - ETA: 0s - loss: 7.4019e-04 - accuracy: 1.0000\n",
      "Epoch 52: saving model to checkpoint\\asl_cnn.ckpt\n",
      "213/213 [==============================] - 1s 6ms/step - loss: 7.3621e-04 - accuracy: 1.0000\n",
      "Epoch 53/100\n",
      "209/213 [============================>.] - ETA: 0s - loss: 7.4616e-04 - accuracy: 1.0000\n",
      "Epoch 53: saving model to checkpoint\\asl_cnn.ckpt\n",
      "213/213 [==============================] - 1s 7ms/step - loss: 7.3512e-04 - accuracy: 1.0000\n",
      "Epoch 54/100\n",
      "213/213 [==============================] - ETA: 0s - loss: 7.3395e-04 - accuracy: 1.0000\n",
      "Epoch 54: saving model to checkpoint\\asl_cnn.ckpt\n",
      "213/213 [==============================] - 1s 5ms/step - loss: 7.3395e-04 - accuracy: 1.0000\n",
      "Epoch 55/100\n",
      "212/213 [============================>.] - ETA: 0s - loss: 7.3332e-04 - accuracy: 1.0000\n",
      "Epoch 55: saving model to checkpoint\\asl_cnn.ckpt\n",
      "213/213 [==============================] - 1s 5ms/step - loss: 7.3284e-04 - accuracy: 1.0000\n",
      "Epoch 56/100\n",
      "210/213 [============================>.] - ETA: 0s - loss: 7.3924e-04 - accuracy: 1.0000\n",
      "Epoch 56: saving model to checkpoint\\asl_cnn.ckpt\n",
      "213/213 [==============================] - 1s 5ms/step - loss: 7.3178e-04 - accuracy: 1.0000\n",
      "Epoch 57/100\n",
      "210/213 [============================>.] - ETA: 0s - loss: 7.3815e-04 - accuracy: 1.0000\n",
      "Epoch 57: saving model to checkpoint\\asl_cnn.ckpt\n",
      "213/213 [==============================] - 1s 6ms/step - loss: 7.3070e-04 - accuracy: 1.0000\n",
      "Epoch 58/100\n",
      "211/213 [============================>.] - ETA: 0s - loss: 7.3362e-04 - accuracy: 1.0000\n",
      "Epoch 58: saving model to checkpoint\\asl_cnn.ckpt\n",
      "213/213 [==============================] - 1s 6ms/step - loss: 7.2968e-04 - accuracy: 1.0000\n",
      "Epoch 59/100\n",
      "208/213 [============================>.] - ETA: 0s - loss: 7.4315e-04 - accuracy: 1.0000\n",
      "Epoch 59: saving model to checkpoint\\asl_cnn.ckpt\n",
      "213/213 [==============================] - 1s 6ms/step - loss: 7.2865e-04 - accuracy: 1.0000\n",
      "Epoch 60/100\n",
      "208/213 [============================>.] - ETA: 0s - loss: 7.4207e-04 - accuracy: 1.0000\n",
      "Epoch 60: saving model to checkpoint\\asl_cnn.ckpt\n",
      "213/213 [==============================] - 1s 6ms/step - loss: 7.2758e-04 - accuracy: 1.0000\n",
      "Epoch 61/100\n",
      "212/213 [============================>.] - ETA: 0s - loss: 7.2698e-04 - accuracy: 1.0000\n",
      "Epoch 61: saving model to checkpoint\\asl_cnn.ckpt\n",
      "213/213 [==============================] - 1s 6ms/step - loss: 7.2650e-04 - accuracy: 1.0000\n",
      "Epoch 62/100\n",
      "211/213 [============================>.] - ETA: 0s - loss: 7.2927e-04 - accuracy: 1.0000\n",
      "Epoch 62: saving model to checkpoint\\asl_cnn.ckpt\n",
      "213/213 [==============================] - 1s 6ms/step - loss: 7.2535e-04 - accuracy: 1.0000\n",
      "Epoch 63/100\n",
      "203/213 [===========================>..] - ETA: 0s - loss: 7.5670e-04 - accuracy: 1.0000\n",
      "Epoch 63: saving model to checkpoint\\asl_cnn.ckpt\n",
      "213/213 [==============================] - 1s 6ms/step - loss: 7.2409e-04 - accuracy: 1.0000\n",
      "Epoch 64/100\n",
      "205/213 [===========================>..] - ETA: 0s - loss: 7.4794e-04 - accuracy: 1.0000\n",
      "Epoch 64: saving model to checkpoint\\asl_cnn.ckpt\n",
      "213/213 [==============================] - 1s 6ms/step - loss: 7.2277e-04 - accuracy: 1.0000\n",
      "Epoch 65/100\n",
      "210/213 [============================>.] - ETA: 0s - loss: 7.2876e-04 - accuracy: 1.0000\n",
      "Epoch 65: saving model to checkpoint\\asl_cnn.ckpt\n",
      "213/213 [==============================] - 1s 5ms/step - loss: 7.2141e-04 - accuracy: 1.0000\n",
      "Epoch 66/100\n",
      "210/213 [============================>.] - ETA: 0s - loss: 7.2727e-04 - accuracy: 1.0000\n",
      "Epoch 66: saving model to checkpoint\\asl_cnn.ckpt\n",
      "213/213 [==============================] - 1s 5ms/step - loss: 7.1993e-04 - accuracy: 1.0000\n",
      "Epoch 67/100\n",
      "211/213 [============================>.] - ETA: 0s - loss: 7.2225e-04 - accuracy: 1.0000\n",
      "Epoch 67: saving model to checkpoint\\asl_cnn.ckpt\n",
      "213/213 [==============================] - 1s 5ms/step - loss: 7.1837e-04 - accuracy: 1.0000\n",
      "Epoch 68/100\n",
      "211/213 [============================>.] - ETA: 0s - loss: 7.2063e-04 - accuracy: 1.0000\n",
      "Epoch 68: saving model to checkpoint\\asl_cnn.ckpt\n",
      "213/213 [==============================] - 1s 6ms/step - loss: 7.1676e-04 - accuracy: 1.0000\n",
      "Epoch 69/100\n",
      "211/213 [============================>.] - ETA: 0s - loss: 7.1893e-04 - accuracy: 1.0000\n",
      "Epoch 69: saving model to checkpoint\\asl_cnn.ckpt\n",
      "213/213 [==============================] - 1s 6ms/step - loss: 7.1507e-04 - accuracy: 1.0000\n",
      "Epoch 70/100\n",
      "207/213 [============================>.] - ETA: 0s - loss: 7.3096e-04 - accuracy: 1.0000\n",
      "Epoch 70: saving model to checkpoint\\asl_cnn.ckpt\n",
      "213/213 [==============================] - 1s 6ms/step - loss: 7.1325e-04 - accuracy: 1.0000\n",
      "Epoch 71/100\n",
      "210/213 [============================>.] - ETA: 0s - loss: 7.1857e-04 - accuracy: 1.0000\n",
      "Epoch 71: saving model to checkpoint\\asl_cnn.ckpt\n",
      "213/213 [==============================] - 1s 6ms/step - loss: 7.1132e-04 - accuracy: 1.0000\n",
      "Epoch 72/100\n",
      "204/213 [===========================>..] - ETA: 0s - loss: 7.3764e-04 - accuracy: 1.0000\n",
      "Epoch 72: saving model to checkpoint\\asl_cnn.ckpt\n",
      "213/213 [==============================] - 1s 6ms/step - loss: 7.0934e-04 - accuracy: 1.0000\n",
      "Epoch 73/100\n",
      "210/213 [============================>.] - ETA: 0s - loss: 7.1444e-04 - accuracy: 1.0000\n",
      "Epoch 73: saving model to checkpoint\\asl_cnn.ckpt\n",
      "213/213 [==============================] - 1s 6ms/step - loss: 7.0723e-04 - accuracy: 1.0000\n",
      "Epoch 74/100\n",
      "207/213 [============================>.] - ETA: 0s - loss: 7.2250e-04 - accuracy: 1.0000\n",
      "Epoch 74: saving model to checkpoint\\asl_cnn.ckpt\n",
      "213/213 [==============================] - 1s 7ms/step - loss: 7.0499e-04 - accuracy: 1.0000\n",
      "Epoch 75/100\n",
      "209/213 [============================>.] - ETA: 0s - loss: 7.1321e-04 - accuracy: 1.0000\n",
      "Epoch 75: saving model to checkpoint\\asl_cnn.ckpt\n",
      "213/213 [==============================] - 1s 6ms/step - loss: 7.0265e-04 - accuracy: 1.0000\n",
      "Epoch 76/100\n",
      "208/213 [============================>.] - ETA: 0s - loss: 7.1417e-04 - accuracy: 1.0000\n",
      "Epoch 76: saving model to checkpoint\\asl_cnn.ckpt\n",
      "213/213 [==============================] - 1s 6ms/step - loss: 7.0023e-04 - accuracy: 1.0000\n",
      "Epoch 77/100\n",
      "206/213 [============================>.] - ETA: 0s - loss: 7.1842e-04 - accuracy: 1.0000\n",
      "Epoch 77: saving model to checkpoint\\asl_cnn.ckpt\n",
      "213/213 [==============================] - 1s 6ms/step - loss: 6.9763e-04 - accuracy: 1.0000\n",
      "Epoch 78/100\n",
      "211/213 [============================>.] - ETA: 0s - loss: 6.9862e-04 - accuracy: 1.0000\n",
      "Epoch 78: saving model to checkpoint\\asl_cnn.ckpt\n",
      "213/213 [==============================] - 1s 6ms/step - loss: 6.9486e-04 - accuracy: 1.0000\n",
      "Epoch 79/100\n",
      "207/213 [============================>.] - ETA: 0s - loss: 7.0921e-04 - accuracy: 1.0000\n",
      "Epoch 79: saving model to checkpoint\\asl_cnn.ckpt\n",
      "213/213 [==============================] - 1s 6ms/step - loss: 6.9202e-04 - accuracy: 1.0000\n",
      "Epoch 80/100\n",
      "204/213 [===========================>..] - ETA: 0s - loss: 7.1654e-04 - accuracy: 1.0000\n",
      "Epoch 80: saving model to checkpoint\\asl_cnn.ckpt\n",
      "213/213 [==============================] - 1s 6ms/step - loss: 6.8904e-04 - accuracy: 1.0000\n",
      "Epoch 81/100\n",
      "206/213 [============================>.] - ETA: 0s - loss: 7.0642e-04 - accuracy: 1.0000\n",
      "Epoch 81: saving model to checkpoint\\asl_cnn.ckpt\n",
      "213/213 [==============================] - 1s 6ms/step - loss: 6.8597e-04 - accuracy: 1.0000\n",
      "Epoch 82/100\n",
      "210/213 [============================>.] - ETA: 0s - loss: 6.8992e-04 - accuracy: 1.0000\n",
      "Epoch 82: saving model to checkpoint\\asl_cnn.ckpt\n",
      "213/213 [==============================] - 1s 6ms/step - loss: 6.8296e-04 - accuracy: 1.0000\n",
      "Epoch 83/100\n",
      "206/213 [============================>.] - ETA: 0s - loss: 7.0002e-04 - accuracy: 1.0000\n",
      "Epoch 83: saving model to checkpoint\\asl_cnn.ckpt\n",
      "213/213 [==============================] - 1s 6ms/step - loss: 6.7976e-04 - accuracy: 1.0000\n",
      "Epoch 84/100\n",
      "210/213 [============================>.] - ETA: 0s - loss: 6.8324e-04 - accuracy: 1.0000\n",
      "Epoch 84: saving model to checkpoint\\asl_cnn.ckpt\n",
      "213/213 [==============================] - 1s 6ms/step - loss: 6.7635e-04 - accuracy: 1.0000\n",
      "Epoch 85/100\n",
      "209/213 [============================>.] - ETA: 0s - loss: 6.8297e-04 - accuracy: 1.0000\n",
      "Epoch 85: saving model to checkpoint\\asl_cnn.ckpt\n",
      "213/213 [==============================] - 1s 7ms/step - loss: 6.7286e-04 - accuracy: 1.0000\n",
      "Epoch 86/100\n",
      "207/213 [============================>.] - ETA: 0s - loss: 6.8630e-04 - accuracy: 1.0000\n",
      "Epoch 86: saving model to checkpoint\\asl_cnn.ckpt\n",
      "213/213 [==============================] - 1s 6ms/step - loss: 6.6967e-04 - accuracy: 1.0000\n",
      "Epoch 87/100\n",
      "213/213 [==============================] - ETA: 0s - loss: 6.6572e-04 - accuracy: 1.0000\n",
      "Epoch 87: saving model to checkpoint\\asl_cnn.ckpt\n",
      "213/213 [==============================] - 1s 6ms/step - loss: 6.6572e-04 - accuracy: 1.0000\n",
      "Epoch 88/100\n",
      "207/213 [============================>.] - ETA: 0s - loss: 6.7834e-04 - accuracy: 1.0000\n",
      "Epoch 88: saving model to checkpoint\\asl_cnn.ckpt\n",
      "213/213 [==============================] - 1s 6ms/step - loss: 6.6191e-04 - accuracy: 1.0000\n",
      "Epoch 89/100\n",
      "209/213 [============================>.] - ETA: 0s - loss: 6.6789e-04 - accuracy: 1.0000\n",
      "Epoch 89: saving model to checkpoint\\asl_cnn.ckpt\n",
      "213/213 [==============================] - 1s 6ms/step - loss: 6.5800e-04 - accuracy: 1.0000\n",
      "Epoch 90/100\n",
      "212/213 [============================>.] - ETA: 0s - loss: 6.5438e-04 - accuracy: 1.0000\n",
      "Epoch 90: saving model to checkpoint\\asl_cnn.ckpt\n",
      "213/213 [==============================] - 1s 6ms/step - loss: 6.5395e-04 - accuracy: 1.0000\n",
      "Epoch 91/100\n",
      "205/213 [===========================>..] - ETA: 0s - loss: 6.7261e-04 - accuracy: 1.0000\n",
      "Epoch 91: saving model to checkpoint\\asl_cnn.ckpt\n",
      "213/213 [==============================] - 1s 6ms/step - loss: 6.4997e-04 - accuracy: 1.0000\n",
      "Epoch 92/100\n",
      "212/213 [============================>.] - ETA: 0s - loss: 6.4643e-04 - accuracy: 1.0000\n",
      "Epoch 92: saving model to checkpoint\\asl_cnn.ckpt\n",
      "213/213 [==============================] - 1s 6ms/step - loss: 6.4601e-04 - accuracy: 1.0000\n",
      "Epoch 93/100\n",
      "212/213 [============================>.] - ETA: 0s - loss: 6.4206e-04 - accuracy: 1.0000\n",
      "Epoch 93: saving model to checkpoint\\asl_cnn.ckpt\n",
      "213/213 [==============================] - 1s 6ms/step - loss: 6.4163e-04 - accuracy: 1.0000\n",
      "Epoch 94/100\n",
      "204/213 [===========================>..] - ETA: 0s - loss: 6.6287e-04 - accuracy: 1.0000\n",
      "Epoch 94: saving model to checkpoint\\asl_cnn.ckpt\n",
      "213/213 [==============================] - 1s 6ms/step - loss: 6.3743e-04 - accuracy: 1.0000\n",
      "Epoch 95/100\n",
      "205/213 [===========================>..] - ETA: 0s - loss: 6.5507e-04 - accuracy: 1.0000\n",
      "Epoch 95: saving model to checkpoint\\asl_cnn.ckpt\n",
      "213/213 [==============================] - 1s 6ms/step - loss: 6.3302e-04 - accuracy: 1.0000\n",
      "Epoch 96/100\n",
      "209/213 [============================>.] - ETA: 0s - loss: 6.3816e-04 - accuracy: 1.0000\n",
      "Epoch 96: saving model to checkpoint\\asl_cnn.ckpt\n",
      "213/213 [==============================] - 1s 5ms/step - loss: 6.2872e-04 - accuracy: 1.0000\n",
      "Epoch 97/100\n",
      "209/213 [============================>.] - ETA: 0s - loss: 6.3360e-04 - accuracy: 1.0000\n",
      "Epoch 97: saving model to checkpoint\\asl_cnn.ckpt\n",
      "213/213 [==============================] - 1s 5ms/step - loss: 6.2422e-04 - accuracy: 1.0000\n",
      "Epoch 98/100\n",
      "207/213 [============================>.] - ETA: 0s - loss: 6.3527e-04 - accuracy: 1.0000\n",
      "Epoch 98: saving model to checkpoint\\asl_cnn.ckpt\n",
      "213/213 [==============================] - 1s 5ms/step - loss: 6.1987e-04 - accuracy: 1.0000\n",
      "Epoch 99/100\n",
      "209/213 [============================>.] - ETA: 0s - loss: 6.2463e-04 - accuracy: 1.0000\n",
      "Epoch 99: saving model to checkpoint\\asl_cnn.ckpt\n",
      "213/213 [==============================] - 1s 6ms/step - loss: 6.1538e-04 - accuracy: 1.0000\n",
      "Epoch 100/100\n",
      "204/213 [===========================>..] - ETA: 0s - loss: 6.3503e-04 - accuracy: 1.0000\n",
      "Epoch 100: saving model to checkpoint\\asl_cnn.ckpt\n",
      "213/213 [==============================] - 1s 6ms/step - loss: 6.1066e-04 - accuracy: 1.0000\n",
      "425/425 - 1s - loss: 6.0616e-04 - accuracy: 1.0000 - 716ms/epoch - 2ms/step\n"
     ]
    },
    {
     "data": {
      "text/plain": [
       "[0.0006061607855372131, 1.0]"
      ]
     },
     "execution_count": 10,
     "metadata": {},
     "output_type": "execute_result"
    }
   ],
   "source": [
    "model.fit(features, labels, batch_size=64,  epochs=100,  callbacks=[cp_callback])\n",
    "model.evaluate(features,  labels, verbose=2)"
   ]
  },
  {
   "cell_type": "code",
   "execution_count": 11,
   "metadata": {},
   "outputs": [
    {
     "name": "stdout",
     "output_type": "stream",
     "text": [
      "INFO:tensorflow:Assets written to: C:\\Users\\Lambe\\AppData\\Local\\Temp\\tmp9n355u3y\\assets\n"
     ]
    },
    {
     "name": "stderr",
     "output_type": "stream",
     "text": [
      "INFO:tensorflow:Assets written to: C:\\Users\\Lambe\\AppData\\Local\\Temp\\tmp9n355u3y\\assets\n"
     ]
    }
   ],
   "source": [
    "converter = tf.lite.TFLiteConverter.from_keras_model(model)\n",
    "\n",
    "tflite_model = converter.convert()"
   ]
  },
  {
   "cell_type": "code",
   "execution_count": 12,
   "metadata": {},
   "outputs": [
    {
     "name": "stdout",
     "output_type": "stream",
     "text": [
      "INFO:tensorflow:Assets written to: C:\\Users\\Lambe\\AppData\\Local\\Temp\\tmpqwwefsoh\\assets\n"
     ]
    },
    {
     "name": "stderr",
     "output_type": "stream",
     "text": [
      "INFO:tensorflow:Assets written to: C:\\Users\\Lambe\\AppData\\Local\\Temp\\tmpqwwefsoh\\assets\n"
     ]
    }
   ],
   "source": [
    "converter = tf.lite.TFLiteConverter.from_keras_model(model)\n",
    "converter.optimizations = [tf.lite.Optimize.DEFAULT]\n",
    "\n",
    "tflite_model_quant = converter.convert()"
   ]
  },
  {
   "cell_type": "code",
   "execution_count": 13,
   "metadata": {},
   "outputs": [
    {
     "name": "stdout",
     "output_type": "stream",
     "text": [
      "INFO:tensorflow:Assets written to: C:\\Users\\Lambe\\AppData\\Local\\Temp\\tmple1d_hwd\\assets\n"
     ]
    },
    {
     "name": "stderr",
     "output_type": "stream",
     "text": [
      "INFO:tensorflow:Assets written to: C:\\Users\\Lambe\\AppData\\Local\\Temp\\tmple1d_hwd\\assets\n",
      "d:\\Anaconda\\anaconda3\\envs\\Flow\\lib\\site-packages\\tensorflow\\lite\\python\\convert.py:947: UserWarning: Statistics for quantized inputs were expected, but not specified; continuing anyway.\n",
      "  warnings.warn(\n"
     ]
    }
   ],
   "source": [
    "def representative_data_gen():\n",
    "    for input_value in tf.data.Dataset.from_tensor_slices(features).batch(1).take(1000):\n",
    "    # Model has only one input so each data point has one element.\n",
    "        yield [input_value]\n",
    "\n",
    "converter = tf.lite.TFLiteConverter.from_keras_model(model)\n",
    "converter.optimizations = [tf.lite.Optimize.DEFAULT]\n",
    "converter.representative_dataset = representative_data_gen\n",
    "\n",
    "tflite_model_quant = converter.convert()"
   ]
  },
  {
   "cell_type": "code",
   "execution_count": 14,
   "metadata": {},
   "outputs": [
    {
     "name": "stdout",
     "output_type": "stream",
     "text": [
      "input:  <class 'numpy.float32'>\n",
      "output:  <class 'numpy.float32'>\n"
     ]
    }
   ],
   "source": [
    "interpreter = tf.lite.Interpreter(model_content=tflite_model_quant)\n",
    "input_type = interpreter.get_input_details()[0]['dtype']\n",
    "print('input: ', input_type)\n",
    "output_type = interpreter.get_output_details()[0]['dtype']\n",
    "print('output: ', output_type)"
   ]
  },
  {
   "cell_type": "code",
   "execution_count": 15,
   "metadata": {},
   "outputs": [
    {
     "name": "stdout",
     "output_type": "stream",
     "text": [
      "INFO:tensorflow:Assets written to: C:\\Users\\Lambe\\AppData\\Local\\Temp\\tmpkfcf0vi1\\assets\n"
     ]
    },
    {
     "name": "stderr",
     "output_type": "stream",
     "text": [
      "INFO:tensorflow:Assets written to: C:\\Users\\Lambe\\AppData\\Local\\Temp\\tmpkfcf0vi1\\assets\n",
      "d:\\Anaconda\\anaconda3\\envs\\Flow\\lib\\site-packages\\tensorflow\\lite\\python\\convert.py:947: UserWarning: Statistics for quantized inputs were expected, but not specified; continuing anyway.\n",
      "  warnings.warn(\n"
     ]
    }
   ],
   "source": [
    "def representative_data_gen():\n",
    "    for input_value in tf.data.Dataset.from_tensor_slices(features).batch(64).take(100):\n",
    "        yield [input_value]\n",
    "\n",
    "converter = tf.lite.TFLiteConverter.from_keras_model(model)\n",
    "converter.optimizations = [tf.lite.Optimize.DEFAULT]\n",
    "converter.representative_dataset = representative_data_gen\n",
    "# Ensure that if any ops can't be quantized, the converter throws an error\n",
    "converter.target_spec.supported_ops = [tf.lite.OpsSet.TFLITE_BUILTINS_INT8]\n",
    "# Set the input and output tensors to uint8 (APIs added in r2.3)\n",
    "converter.inference_input_type = tf.uint8\n",
    "converter.inference_output_type = tf.uint8\n",
    "\n",
    "tflite_model_quant = converter.convert()"
   ]
  },
  {
   "cell_type": "code",
   "execution_count": 16,
   "metadata": {},
   "outputs": [
    {
     "name": "stdout",
     "output_type": "stream",
     "text": [
      "input:  <class 'numpy.uint8'>\n",
      "output:  <class 'numpy.uint8'>\n"
     ]
    }
   ],
   "source": [
    "interpreter = tf.lite.Interpreter(model_content=tflite_model_quant)\n",
    "input_type = interpreter.get_input_details()[0]['dtype']\n",
    "print('input: ', input_type)\n",
    "output_type = interpreter.get_output_details()[0]['dtype']\n",
    "print('output: ', output_type)"
   ]
  },
  {
   "cell_type": "code",
   "execution_count": 17,
   "metadata": {},
   "outputs": [
    {
     "data": {
      "text/plain": [
       "15040"
      ]
     },
     "execution_count": 17,
     "metadata": {},
     "output_type": "execute_result"
    }
   ],
   "source": [
    "import pathlib\n",
    "\n",
    "tflite_models_dir = pathlib.Path(\"H:\\\\tensorflow\\\\tmp\\\\asl_tflite_models\")\n",
    "tflite_models_dir.mkdir(exist_ok=True, parents=True)\n",
    "\n",
    "# Save the unquantized/float model:\n",
    "tflite_model_file = tflite_models_dir/\"asl_model.tflite\"\n",
    "tflite_model_file.write_bytes(tflite_model)\n",
    "# Save the quantized model:\n",
    "tflite_model_quant_file = tflite_models_dir/\"asl_model_quant.tflite\"\n",
    "tflite_model_quant_file.write_bytes(tflite_model_quant)"
   ]
  },
  {
   "cell_type": "code",
   "execution_count": 18,
   "metadata": {},
   "outputs": [],
   "source": [
    "# Helper function to run inference on a TFLite model\n",
    "def run_tflite_model(tflite_file, test_image_indices):\n",
    "    global features\n",
    "\n",
    "    # Initialize the interpreter\n",
    "    interpreter = tf.lite.Interpreter(model_path=str(tflite_file))\n",
    "    interpreter.allocate_tensors()\n",
    "\n",
    "    input_details = interpreter.get_input_details()[0]\n",
    "    output_details = interpreter.get_output_details()[0]\n",
    "\n",
    "    predictions = np.zeros((len(test_image_indices),), dtype=int)\n",
    "    for i, test_image_index in enumerate(test_image_indices):\n",
    "        feature = features[test_image_index]\n",
    "        label = labels[test_image_index]\n",
    "\n",
    "    # Check if the input type is quantized, then rescale input data to uint8\n",
    "    if input_details['dtype'] == np.uint8:\n",
    "        input_scale, input_zero_point = input_details[\"quantization\"]\n",
    "        feature = feature / input_scale + input_zero_point\n",
    "\n",
    "    feature = np.expand_dims(feature, axis=0).astype(input_details[\"dtype\"])\n",
    "    interpreter.set_tensor(input_details[\"index\"], feature)\n",
    "    interpreter.invoke()\n",
    "    output = interpreter.get_tensor(output_details[\"index\"])[0]\n",
    "\n",
    "    predictions[i] = output.argmax()\n",
    "\n",
    "    return predictions"
   ]
  },
  {
   "cell_type": "code",
   "execution_count": 19,
   "metadata": {},
   "outputs": [],
   "source": [
    "import matplotlib.pylab as plt\n",
    "\n",
    "# Change this to test a different image\n",
    "test_image_index = 1\n",
    "\n",
    "## Helper function to test the models on one image\n",
    "def test_model(tflite_file, idx, model_type):\n",
    "    global labels\n",
    "\n",
    "    predictions = run_tflite_model(tflite_file, [idx])\n",
    "\n",
    "    plt.imshow(features[idx])\n",
    "    template = model_type + \" Model \\n True:{true}, Predicted:{predict}\"\n",
    "    _ = plt.title(template.format(true= str(labels[idx]), predict=str(predictions[0])))\n",
    "    plt.grid(False)"
   ]
  },
  {
   "cell_type": "code",
   "execution_count": 20,
   "metadata": {},
   "outputs": [
    {
     "data": {
      "image/png": "[encoded data removed]",
      "text/plain": [
       "<Figure size 640x480 with 1 Axes>"
      ]
     },
     "metadata": {},
     "output_type": "display_data"
    }
   ],
   "source": [
    "test_model(tflite_model_file, test_image_index, model_type=\"Float\")"
   ]
  },
  {
   "cell_type": "code",
   "execution_count": 21,
   "metadata": {},
   "outputs": [
    {
     "data": {
      "image/png": "[encoded data removed]",
      "text/plain": [
       "<Figure size 640x480 with 1 Axes>"
      ]
     },
     "metadata": {},
     "output_type": "display_data"
    }
   ],
   "source": [
    "test_model(tflite_model_quant_file, test_image_index, model_type=\"Quantized\")"
   ]
  },
  {
   "cell_type": "code",
   "execution_count": 22,
   "metadata": {},
   "outputs": [],
   "source": [
    "# Helper function to evaluate a TFLite model on all images\n",
    "def evaluate_model(tflite_file, model_type):\n",
    "    global features\n",
    "    global features\n",
    "\n",
    "    test_image_indices = range(features.shape[0])\n",
    "    predictions = run_tflite_model(tflite_file, test_image_indices)\n",
    "    accuracy = (np.sum(labels== predictions) * 100) / len(features)\n",
    "    print(labels)\n",
    "    print('%s model accuracy is %.4f%% (Number of test samples=%d)' % (\n",
    "        model_type, accuracy, len(features)))\n",
    "    # print(labels, predictions)"
   ]
  },
  {
   "cell_type": "code",
   "execution_count": 23,
   "metadata": {},
   "outputs": [
    {
     "name": "stdout",
     "output_type": "stream",
     "text": [
      "tf.Tensor([0 0 0 ... 0 0 0], shape=(13577,), dtype=int32)\n",
      "Float model accuracy is 100.0000% (Number of test samples=13577)\n"
     ]
    }
   ],
   "source": [
    "evaluate_model(tflite_model_file, model_type=\"Float\")"
   ]
  },
  {
   "cell_type": "code",
   "execution_count": 24,
   "metadata": {},
   "outputs": [
    {
     "name": "stdout",
     "output_type": "stream",
     "text": [
      "tf.Tensor([0 0 0 ... 0 0 0], shape=(13577,), dtype=int32)\n",
      "Quantized model accuracy is 100.0000% (Number of test samples=13577)\n"
     ]
    }
   ],
   "source": [
    "evaluate_model(tflite_model_quant_file, model_type=\"Quantized\")"
   ]
  }
 ],
 "metadata": {
  "kernelspec": {
   "display_name": "Flow",
   "language": "python",
   "name": "python3"
  },
  "language_info": {
   "codemirror_mode": {
    "name": "ipython",
    "version": 3
   },
   "file_extension": ".py",
   "mimetype": "text/x-python",
   "name": "python",
   "nbconvert_exporter": "python",
   "pygments_lexer": "ipython3",
   "version": "3.10.13"
  }
 },
 "nbformat": 4,
 "nbformat_minor": 2
}
