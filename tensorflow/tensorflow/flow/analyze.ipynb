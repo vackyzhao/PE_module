{
 "cells": [
  {
   "cell_type": "code",
   "execution_count": 31,
   "metadata": {},
   "outputs": [],
   "source": [
    "from __future__ import division\n",
    "import json\n",
    "\n",
    "def write_blob_info(p_file, inputs, input_shape):\n",
    "\tprint(len(input_shape))\n",
    "\tp_file.write(str(inputs) + ', ')\n",
    "\tp_file.write(str(3) + ', ')\n",
    "\tfor i in range(len(input_shape)):\n",
    "\t\tp_file.write(str(input_shape[i]) + \",\")\n",
    "\t# p_file.write(str(input_shape[3]) + ', ')\n",
    "\t# p_file.write(str(input_shape[1]) + ', ')\n",
    "\t# p_file.write(str(input_shape[2]) + ', ')\n",
    "\n",
    "with open(\"asl_model_quant_new.json\",'r') as f:\n",
    "\tload_dict = json.load(f)"
   ]
  },
  {
   "cell_type": "code",
   "execution_count": 32,
   "metadata": {},
   "outputs": [
    {
     "name": "stdout",
     "output_type": "stream",
     "text": [
      "dict_keys(['version', 'operator_codes', 'subgraphs', 'description', 'buffers', 'metadata', 'signature_defs'])\n"
     ]
    }
   ],
   "source": [
    "print(load_dict.keys())"
   ]
  },
  {
   "cell_type": "code",
   "execution_count": 33,
   "metadata": {},
   "outputs": [],
   "source": [
    "param_file=open(\"asl_model_quant.proto\",'w')\n",
    "\n",
    "tensors = load_dict[\"subgraphs\"][0][\"tensors\"]\n",
    "operators = load_dict[\"subgraphs\"][0][\"operators\"]\n",
    "inputs = load_dict[\"subgraphs\"][0][\"inputs\"]\n",
    "input_shape = tensors[inputs[0]][\"shape\"]\n",
    "\n"
   ]
  },
  {
   "cell_type": "code",
   "execution_count": 34,
   "metadata": {},
   "outputs": [
    {
     "name": "stdout",
     "output_type": "stream",
     "text": [
      "[{'shape': [1, 24, 32, 1], 'type': 'UINT8', 'buffer': 1, 'name': 'serving_default_conv2d_40_input:0', 'quantization': {'scale': [0.003922], 'zero_point': [0]}, 'shape_signature': [-1, 24, 32, 1], 'has_rank': True}, {'shape': [2], 'type': 'INT32', 'buffer': 2, 'name': 'sequential_20/flatten_20/Const', 'quantization': {}, 'has_rank': True}, {'shape': [29, 384], 'type': 'INT8', 'buffer': 3, 'name': 'sequential_20/dense_20/MatMul1', 'quantization': {'scale': [0.015029], 'zero_point': [0]}, 'has_rank': True}, {'shape': [8], 'type': 'INT32', 'buffer': 4, 'name': 'sequential_20/conv2d_41/Conv2D', 'quantization': {'scale': [0.000138, 0.000155, 6.9e-05, 7.9e-05, 0.000174, 7.2e-05, 5.2e-05, 7.5e-05], 'zero_point': [0, 0, 0, 0, 0, 0, 0, 0]}, 'has_rank': True}, {'shape': [8, 3, 3, 4], 'type': 'INT8', 'buffer': 5, 'name': 'sequential_20/conv2d_41/Conv2D1', 'quantization': {'scale': [0.011009, 0.012297, 0.005502, 0.006321, 0.013863, 0.005697, 0.00415, 0.005941], 'zero_point': [0, 0, 0, 0, 0, 0, 0, 0]}, 'has_rank': True}, {'shape': [4], 'type': 'INT32', 'buffer': 6, 'name': 'sequential_20/conv2d_40/Conv2D', 'quantization': {'scale': [3.9e-05, 3.5e-05, 2.7e-05, 3.4e-05], 'zero_point': [0, 0, 0, 0]}, 'has_rank': True}, {'shape': [4, 3, 3, 1], 'type': 'INT8', 'buffer': 7, 'name': 'sequential_20/conv2d_40/Conv2D1', 'quantization': {'scale': [0.010035, 0.008989, 0.006957, 0.008597], 'zero_point': [0, 0, 0, 0]}, 'has_rank': True}, {'shape': [1, 24, 32, 1], 'type': 'INT8', 'buffer': 8, 'name': 'tfl.quantize', 'quantization': {'scale': [0.003922], 'zero_point': [-128]}, 'shape_signature': [-1, 24, 32, 1], 'has_rank': True}, {'shape': [1, 24, 32, 4], 'type': 'INT8', 'buffer': 9, 'name': 'sequential_20/conv2d_40/Relu;sequential_20/conv2d_40/Conv2D', 'quantization': {'scale': [0.012571], 'zero_point': [-128]}, 'shape_signature': [-1, 24, 32, 4], 'has_rank': True}, {'shape': [1, 12, 16, 4], 'type': 'INT8', 'buffer': 10, 'name': 'sequential_20/max_pooling2d_40/MaxPool', 'quantization': {'scale': [0.012571], 'zero_point': [-128]}, 'shape_signature': [-1, 12, 16, 4], 'has_rank': True}, {'shape': [1, 12, 16, 8], 'type': 'INT8', 'buffer': 11, 'name': 'sequential_20/conv2d_41/Relu;sequential_20/conv2d_41/Conv2D', 'quantization': {'scale': [0.215907], 'zero_point': [-128]}, 'shape_signature': [-1, 12, 16, 8], 'has_rank': True}, {'shape': [1, 6, 8, 8], 'type': 'INT8', 'buffer': 12, 'name': 'sequential_20/max_pooling2d_41/MaxPool', 'quantization': {'scale': [0.215907], 'zero_point': [-128]}, 'shape_signature': [-1, 6, 8, 8], 'has_rank': True}, {'shape': [1, 384], 'type': 'INT8', 'buffer': 13, 'name': 'sequential_20/flatten_20/Reshape', 'quantization': {'scale': [0.215907], 'zero_point': [-128]}, 'shape_signature': [-1, 384], 'has_rank': True}, {'shape': [1, 29], 'type': 'INT8', 'buffer': 14, 'name': 'StatefulPartitionedCall:01', 'quantization': {'scale': [16.771633], 'zero_point': [2]}, 'shape_signature': [-1, 29], 'has_rank': True}, {'shape': [1, 29], 'type': 'UINT8', 'buffer': 15, 'name': 'StatefulPartitionedCall:0', 'quantization': {'scale': [16.771633], 'zero_point': [130]}, 'shape_signature': [-1, 29], 'has_rank': True}]\n",
      "[{'inputs': [0], 'outputs': [7]}, {'opcode_index': 1, 'inputs': [7, 6, 5], 'outputs': [8], 'builtin_options_type': 'Conv2DOptions', 'builtin_options': {'stride_w': 1, 'stride_h': 1, 'fused_activation_function': 'RELU'}}, {'opcode_index': 2, 'inputs': [8], 'outputs': [9], 'builtin_options_type': 'Pool2DOptions', 'builtin_options': {'padding': 'VALID', 'stride_w': 2, 'stride_h': 2, 'filter_width': 2, 'filter_height': 2}}, {'opcode_index': 1, 'inputs': [9, 4, 3], 'outputs': [10], 'builtin_options_type': 'Conv2DOptions', 'builtin_options': {'stride_w': 1, 'stride_h': 1, 'fused_activation_function': 'RELU'}}, {'opcode_index': 2, 'inputs': [10], 'outputs': [11], 'builtin_options_type': 'Pool2DOptions', 'builtin_options': {'padding': 'VALID', 'stride_w': 2, 'stride_h': 2, 'filter_width': 2, 'filter_height': 2}}, {'opcode_index': 3, 'inputs': [11, 1], 'outputs': [12]}, {'opcode_index': 4, 'inputs': [12, 2, -1], 'outputs': [13], 'builtin_options_type': 'FullyConnectedOptions', 'builtin_options': {}}, {'inputs': [13], 'outputs': [14]}]\n",
      "[0]\n",
      "[1, 24, 32, 1]\n"
     ]
    }
   ],
   "source": [
    "print(tensors)\n",
    "print(operators)\n",
    "print(inputs)\n",
    "print(input_shape)\n"
   ]
  },
  {
   "cell_type": "code",
   "execution_count": 35,
   "metadata": {},
   "outputs": [
    {
     "name": "stdout",
     "output_type": "stream",
     "text": [
      "4\n",
      "4\n",
      "4\n",
      "2\n"
     ]
    }
   ],
   "source": [
    "param_file.write(str(len(operators) + 1) + ',\\n')\n",
    "write_blob_info(param_file, \\\n",
    "\t\t\t\tinputs[0], \\\n",
    "\t\t\t\tinput_shape)\n",
    "param_file.write('\\n')\n",
    "\n",
    "for layer in operators:\n",
    "    try:\n",
    "        layer_name = layer[\"builtin_options_type\"]\n",
    "    except:\n",
    "        continue\n",
    "    operators_inputs  = layer[\"inputs\"]\n",
    "    input_len = len(operators_inputs)\n",
    "    builtin_options = layer[\"builtin_options\"]\n",
    "\t\n",
    "    if layer_name == \"Conv2DOptions\":\t#conv_2d, depthwiseconv_2d\n",
    "        input_shape  = tensors[operators_inputs[0]][\"shape\"]\n",
    "        kernel_shape = tensors[operators_inputs[1]][\"shape\"]\n",
    "        bias_shape   = tensors[operators_inputs[2]][\"shape\"]\n",
    "        kernel_H = kernel_shape[1]\n",
    "        kernel_W = kernel_shape[2]\n",
    "        param_file.write(str(kernel_H) + ', ')\n",
    "        param_file.write(str(kernel_W) + ', ')\n",
    "        stride_H = builtin_options[\"stride_h\"]\n",
    "        stride_W = builtin_options[\"stride_w\"]\n",
    "        param_file.write(str(stride_H) + ', ')\n",
    "        param_file.write(str(stride_W) + ', ')\n",
    "        try:\t\t\n",
    "            dilation_W = builtin_options[\"dilation_w_factor\"]\n",
    "            dilation_H = builtin_options[\"dilation_h_factor\"]\n",
    "        except:\n",
    "            continue\n",
    "        param_file.write(str(dilation_H) + ', ')\n",
    "        param_file.write(str(dilation_W) + ', ')\n",
    "        bias_term = 1\n",
    "        if input_len  < 3 or bias_shape[0] == 0:\n",
    "            bias_term = 0\n",
    "        param_file.write(str(bias_term) + ', ')\n",
    "        bottom_zero_point = tensors[operators_inputs[0]][\"quantization\"][\"zero_point\"][0]\n",
    "        param_file.write(str(bottom_zero_point) + ', ')\n",
    "        write_blob_info(param_file, \\\n",
    "                operators_inputs[0], \\\n",
    "                input_shape)\t\n",
    "\t#output_blob\n",
    "    operators_outputs = layer[\"outputs\"]\n",
    "    output_shape = tensors[operators_outputs[0]][\"shape\"]\n",
    "    write_blob_info(param_file, \\\n",
    "            operators_outputs[0], \\\n",
    "            output_shape)\n",
    "    param_file.write('\\n')"
   ]
  }
 ],
 "metadata": {
  "kernelspec": {
   "display_name": "Flow",
   "language": "python",
   "name": "python3"
  },
  "language_info": {
   "codemirror_mode": {
    "name": "ipython",
    "version": 3
   },
   "file_extension": ".py",
   "mimetype": "text/x-python",
   "name": "python",
   "nbconvert_exporter": "python",
   "pygments_lexer": "ipython3",
   "version": "3.10.13"
  }
 },
 "nbformat": 4,
 "nbformat_minor": 2
}
