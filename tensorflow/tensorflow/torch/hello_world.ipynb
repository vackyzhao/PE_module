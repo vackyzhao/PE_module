{
 "cells": [
  {
   "cell_type": "code",
   "execution_count": 18,
   "metadata": {},
   "outputs": [
    {
     "data": {
      "text/plain": [
       "(torch.Size([27, 384]), torch.Size([4, 1, 3, 3]), torch.Size([8, 4, 3, 3]))"
      ]
     },
     "execution_count": 18,
     "metadata": {},
     "output_type": "execute_result"
    }
   ],
   "source": [
    "from __future__ import print_function\n",
    "import torch\n",
    "import numpy as np\n",
    "import os\n",
    "import torch.nn.functional as F\n",
    "import torchvision\n",
    "from torch.utils.data import DataLoader\n",
    "np.set_printoptions(threshold=np.inf)\n",
    "import tensorflow as tf\n",
    "\n",
    "\n",
    "\n",
    "conv1_weight = np.load(\"H:\\\\tensorflow\\\\flow\\weights\\conv1.npy\")\n",
    "# print(conv1_weight)\n",
    "conv2_weight = np.load(\"H:\\\\tensorflow\\\\flow\\weights\\conv2.npy\")\n",
    "fc_weight = np.load(\"H:\\\\tensorflow\\\\flow\\weights\\\\fc.npy\")\n",
    "# print(conv1_weight.shape)\n",
    "conv1_weight=torch.tensor(conv1_weight).permute(0, 3, 2, 1).to(torch.float32)\n",
    "conv2_weight=torch.tensor(conv2_weight).permute(0, 3, 2, 1).to(torch.float32)\n",
    "fc_weight=torch.tensor(fc_weight).to(torch.float32)\n",
    "\n",
    "np.save(\"H:\\\\tensorflow\\\\torch\\weights\\conv1.npy\", np.asarray(conv1_weight))\n",
    "np.save(\"H:\\\\tensorflow\\\\torch\\weights\\conv2.npy\", np.asarray(conv2_weight))\n",
    "np.save(\"H:\\\\tensorflow\\\\torch\\weights\\\\fc.npy\", np.asarray(fc_weight))\n",
    "\n",
    "class ToTensor(object):\n",
    "    def __call__(self, image):\n",
    "        image = np.asarray(image)\n",
    "        return torch.tensor(image).to(torch.float32)\n",
    "transforms = torchvision.transforms.Compose([torchvision.transforms.Grayscale(), ToTensor()])\n",
    "\n",
    "cal_dataset = torchvision.datasets.ImageFolder(\"H:\\\\tensorflow\\\\torch\\cal_dataset\", transforms)\n",
    "cal_loader = DataLoader(cal_dataset, 1, False, num_workers=0)\n",
    "\n",
    "fc_weight.shape, conv1_weight.shape, conv2_weight.shape\n"
   ]
  },
  {
   "cell_type": "code",
   "execution_count": 19,
   "metadata": {},
   "outputs": [
    {
     "name": "stdout",
     "output_type": "stream",
     "text": [
      "torch.Size([4, 1, 3, 3])\n"
     ]
    }
   ],
   "source": [
    "conv2d = torch.nn.Conv2d(1, 4, 3, 1, 1)\n",
    "print(conv2d.weight.shape)"
   ]
  },
  {
   "cell_type": "code",
   "execution_count": 20,
   "metadata": {},
   "outputs": [
    {
     "data": {
      "text/plain": [
       "(torch.Size([4, 1, 3, 3]), torch.Size([8, 4, 3, 3]), torch.Size([27, 384]))"
      ]
     },
     "execution_count": 20,
     "metadata": {},
     "output_type": "execute_result"
    }
   ],
   "source": [
    "fconv1_weight = np.load(\"H:\\\\tensorflow\\\\torch\\weights\\\\conv1_tensor.npy\")\n",
    "# print(conv1_weight)\n",
    "fconv2_weight = np.load(\"H:\\\\tensorflow\\\\torch\\weights\\\\conv2_tensor.npy\")\n",
    "ffc_weight = np.load(\"H:\\\\tensorflow\\\\torch\\weights\\\\fc_tensor.npy\")\n",
    "fconv1_weight=torch.tensor(fconv1_weight).to(torch.float32).permute(0, 3, 1, 2)\n",
    "fconv2_weight=torch.tensor(fconv2_weight).to(torch.float32).permute(0, 3, 1, 2)\n",
    "ffc_weight=torch.tensor(ffc_weight).to(torch.float32)\n",
    "\n",
    "\n",
    "np.save(\"H:\\\\tensorflow\\\\torch\\weights\\\\tensor_fconv1.npy\", np.asarray(fconv1_weight))\n",
    "np.save(\"H:\\\\tensorflow\\\\torch\\weights\\\\tensor_fconv2.npy\", np.asarray(fconv2_weight))\n",
    "np.save(\"H:\\\\tensorflow\\\\torch\\weights\\\\tensor_ffc.npy\", np.asarray(ffc_weight))\n",
    "# print(fconv1_weight)\n",
    "# fconv1_weight\n",
    "# print(ffc_weight)\n",
    "fconv1_weight.shape, fconv2_weight.shape, ffc_weight.shape"
   ]
  },
  {
   "cell_type": "code",
   "execution_count": 21,
   "metadata": {},
   "outputs": [
    {
     "data": {
      "text/plain": [
       "torch.Size([3, 3, 1, 4])"
      ]
     },
     "execution_count": 21,
     "metadata": {},
     "output_type": "execute_result"
    }
   ],
   "source": [
    "tfconv1_weight = np.load(\"H:\\\\tensorflow\\\\flow\\weights\\\\tfconv1.npy\")\n",
    "# print(conv1_weight)\n",
    "tfconv2_weight = np.load(\"H:\\\\tensorflow\\\\flow\\weights\\\\tfconv2.npy\")\n",
    "tffc_weight = np.load(\"H:\\\\tensorflow\\\\flow\\weights\\\\tffc.npy\")\n",
    "tfconv1_weight=torch.tensor(tfconv1_weight).to(torch.float32)\n",
    "tfconv2_weight=torch.tensor(tfconv2_weight).to(torch.float32)\n",
    "tffc_weight=torch.tensor(tffc_weight).permute(1, 0).to(torch.float32)\n",
    "\n",
    "np.save(\"H:\\\\tensorflow\\\\torch\\weights\\\\tfconv1.npy\", np.asarray(tfconv1_weight))\n",
    "np.save(\"H:\\\\tensorflow\\\\torch\\weights\\\\tfconv2.npy\", np.asarray(tfconv2_weight))\n",
    "np.save(\"H:\\\\tensorflow\\\\torch\\weights\\\\tffc.npy\", np.asarray(tffc_weight))\n",
    "# print(fconv1_weight)\n",
    "tfconv1_weight.shape\n"
   ]
  },
  {
   "cell_type": "code",
   "execution_count": 22,
   "metadata": {},
   "outputs": [],
   "source": [
    "# class ToTensor(object):\n",
    "#     def __call__(self, image):\n",
    "#         image = np.asarray(image)\n",
    "#         return torch.tensor(image).to(torch.float32)\n",
    "# transforms = torchvision.transforms.Compose([ToTensor()])"
   ]
  },
  {
   "cell_type": "code",
   "execution_count": 23,
   "metadata": {},
   "outputs": [],
   "source": [
    "def conv1(x, w, idx):\n",
    "    y = F.conv2d(x, w, None, 1, 1)\n",
    "    npy = np.array(y)\n",
    "    np.save(f\"H:\\\\tensorflow\\\\torch\\conv1\\conv1_cal_{idx}.npy\", npy)\n",
    "    # if idx==0:\n",
    "    #     print(f\"conv1\\n\\n{npy}\\n\\n\")    \n",
    "    return y\n",
    "def maxpool1(x, idx):\n",
    "    y = torch.nn.MaxPool2d((2, 2), 2)(x)\n",
    "    npy = np.array(y)\n",
    "    np.save(f\"H:\\\\tensorflow\\\\torch\\pool1\\pool1_cal_{idx}.npy\", npy)\n",
    "    # if idx==0:\n",
    "    #     print(f\"pool1\\n\\n{npy}\\n\\n\")     \n",
    "    return y\n",
    "def relu1(x, idx):\n",
    "    y = F.relu(x)\n",
    "    npy = np.array(y)\n",
    "    np.save(f\"H:\\\\tensorflow\\\\torch\\\\relu1\\\\relu1_cal_{idx}.npy\", npy)\n",
    "    # if idx==0:\n",
    "    #     print(f\"relu1\\n\\n{npy}\\n\\n\")     \n",
    "    return y\n",
    "def conv2(x, w, idx):\n",
    "    y = F.conv2d(x, w, None, 1, 1)\n",
    "    npy = np.array(y)\n",
    "    np.save(f\"H:\\\\tensorflow\\\\torch\\conv2\\conv2_cal_{idx}.npy\", npy)  \n",
    "    # if idx==0:\n",
    "    #     print(f\"conv2\\n\\n{npy}\\n\\n\")     \n",
    "    return y\n",
    "def maxpool2(x, idx):\n",
    "    y = torch.nn.MaxPool2d((2, 2), 2)(x)\n",
    "    npy = np.array(y)\n",
    "    np.save(f\"H:\\\\tensorflow\\\\torch\\pool2\\pool2_cal_{idx}.npy\", npy)\n",
    "    # if idx==0:\n",
    "    #     print(f\"pool2\\n\\n{npy}\\n\\n\")     \n",
    "    return y\n",
    "def relu2(x, idx):\n",
    "    y = F.relu(x)\n",
    "    npy = np.array(y)\n",
    "    np.save(f\"H:\\\\tensorflow\\\\torch\\\\relu2\\\\relu2_cal_{idx}.npy\", npy)\n",
    "    # if idx==0:\n",
    "    #     print(f\"relu2\\n\\n{npy}\\n\\n\")    \n",
    "    return y\n",
    "def fc(x, w, idx):\n",
    "    y = F.linear(x, w, None)\n",
    "    npy = np.array(y)\n",
    "    np.save(f\"H:\\\\tensorflow\\\\torch\\\\fc\\\\fc_cal_{idx}.npy\", npy)  \n",
    "    # if idx==0:\n",
    "    #     print(f\"fc\\n\\n{npy}\\n\\n\")    \n",
    "    return y\n",
    "acc = 0\n",
    "sam = 0\n"
   ]
  },
  {
   "cell_type": "code",
   "execution_count": 24,
   "metadata": {},
   "outputs": [],
   "source": [
    "# print(fconv1_weight)\n",
    "# print(fconv2_weight)\n",
    "# print(ffc_weight)"
   ]
  },
  {
   "cell_type": "code",
   "execution_count": 25,
   "metadata": {},
   "outputs": [],
   "source": [
    "class ASL(torch.nn.Module):\n",
    "    def __init__(self):\n",
    "        super(ASL, self).__init__()\n",
    "        self.Lconv1 =    torch.nn.Conv2d(1, 4, 3, 1, 1, bias=False)\n",
    "        self.Lrelu1 =     torch.nn.ReLU()\n",
    "        self.Lpool1 =     torch.nn.MaxPool2d(2, 2)\n",
    "        self.Lconv2 =     torch.nn.Conv2d(4, 8, 3, 1, 1, bias=False)\n",
    "        self.Lrelu2 =     torch.nn.ReLU()\n",
    "        self.Lpool2 =     torch.nn.MaxPool2d(2, 2)\n",
    "        self.Lflat =     torch.nn.Flatten()\n",
    "        self.Llinear =     torch.nn.Linear(384, 27, bias=False)\n",
    "        \n",
    "    def forward(self, x):\n",
    "        x = self.Lpool2(self.Lrelu2(self.Lconv2(self.Lpool1(self.Lrelu1(self.Lconv1(x))))))\n",
    "        x = x.permute(0, 2, 3, 1)\n",
    "        return self.Llinear(self.Lflat(x))\n",
    "\n",
    "model = ASL()"
   ]
  },
  {
   "cell_type": "code",
   "execution_count": 26,
   "metadata": {},
   "outputs": [
    {
     "name": "stdout",
     "output_type": "stream",
     "text": [
      "odict_keys(['Lconv1.weight', 'Lconv2.weight', 'Llinear.weight'])\n"
     ]
    }
   ],
   "source": [
    "print(model.state_dict().keys())\n",
    "model.Lconv1.weight.data = fconv1_weight\n",
    "model.Lconv2.weight.data = fconv2_weight\n",
    "model.Llinear.weight.data = ffc_weight"
   ]
  },
  {
   "cell_type": "code",
   "execution_count": 27,
   "metadata": {},
   "outputs": [
    {
     "name": "stdout",
     "output_type": "stream",
     "text": [
      "0.8888888888888888\n"
     ]
    }
   ],
   "source": [
    "acc = 0\n",
    "sam = 0\n",
    "for i, (feature, label) in enumerate(cal_dataset):\n",
    "    # print(i)\n",
    "    sam += 1\n",
    "    # print(feature)\n",
    "    with torch.no_grad():\n",
    "        feature = torch.unsqueeze(feature, dim=0)\n",
    "        feature = torch.unsqueeze(feature, dim=0)\n",
    "        feature.requires_grad = False\n",
    "        output = model(feature)\n",
    "        _, prediction = torch.max(output, 1)\n",
    "        if prediction.item() == label:\n",
    "            acc += 1\n",
    "        # print(prediction)\n",
    "print(acc/sam)"
   ]
  },
  {
   "cell_type": "code",
   "execution_count": 28,
   "metadata": {},
   "outputs": [
    {
     "name": "stdout",
     "output_type": "stream",
     "text": [
      "(24, 32)\n"
     ]
    },
    {
     "data": {
      "text/plain": [
       "(tensor([[ -62.5787, -102.8038,  -90.6651,  -20.1619,  -99.4374,  -67.5091,\n",
       "           -56.5997, -117.1688,  -44.5894,  -82.2286,  -18.5809,  -24.0874,\n",
       "           -71.4404,  -88.8474,  -66.3295,  -29.6895,  -30.0203,  -14.9207,\n",
       "          -117.6942,  -57.3426,  -21.0905,   -9.5403,  -58.5770,  -20.1815,\n",
       "           -57.2318,    8.2209,  -40.9147]], grad_fn=<MmBackward0>),\n",
       " tensor([25]),\n",
       " torch.Size([1, 1, 24, 32]))"
      ]
     },
     "execution_count": 28,
     "metadata": {},
     "output_type": "execute_result"
    }
   ],
   "source": [
    "from PIL import Image\n",
    "data = np.asarray(Image.open(\"H:\\\\tensorflow\\\\torch\\cal_dataset\\Z\\\\temperature_image_0.png\"))\n",
    "print(data.shape)\n",
    "data = torch.unsqueeze(torch.tensor(data), dim=0).to(torch.float32)\n",
    "data = torch.unsqueeze(data, dim=0)\n",
    "out = model(data)\n",
    "_, prediction = torch.max(out, 1)\n",
    "out, prediction, data.shape\n"
   ]
  },
  {
   "cell_type": "code",
   "execution_count": 29,
   "metadata": {},
   "outputs": [],
   "source": [
    "# torch.set_printoptions(threshold=torch.inf)\n",
    "# # \n",
    "# out = model.Lconv1(data)\n",
    "# out_tf = tf.nn.conv2d(data.permute(0, 2, 3, 1), tfconv1_weight, 1, \"SAME\")\n",
    "# _out = torch.tensor(np.asarray(out_tf)).permute(0, 3, 1, 2)\n",
    "# out = torch.nn.ReLU()(out)\n",
    "# out_tf = tf.nn.relu(out_tf)\n",
    "# _out = torch.tensor(np.asarray(out_tf)).permute(0, 3, 1, 2)\n",
    "# out = torch.nn.MaxPool2d(2, 2)(out)\n",
    "# out_tf = tf.nn.max_pool2d(out_tf, 2, 2, \"VALID\")\n",
    "# _out = torch.tensor(np.asarray(out_tf)).permute(0, 3, 1, 2)\n",
    "# out = model.Lconv2(out)\n",
    "# out_tf = tf.nn.conv2d(out_tf, tfconv2_weight, 1, \"SAME\")\n",
    "# _out = torch.tensor(np.asarray(out_tf)).permute(0, 3, 1, 2)\n",
    "# out = torch.nn.ReLU()(out)\n",
    "# out_tf = tf.nn.relu(out_tf)\n",
    "# _out = torch.tensor(np.asarray(out_tf)).permute(0, 3, 1, 2)\n",
    "# out = torch.nn.MaxPool2d(2, 2)(out)\n",
    "# out_tf = tf.nn.max_pool2d(out_tf, 2, 2, \"VALID\")\n",
    "# _out = torch.tensor(np.asarray(out_tf)).permute(0, 3, 1, 2)\n",
    "# print(out.shape)\n",
    "# out = out.permute(0, 2, 3, 1)\n",
    "# out = torch.nn.Flatten(start_dim=1, end_dim=-1)(out)\n",
    "# print(out_tf.shape)\n",
    "# out_tf = tf.keras.layers.Flatten()(out_tf)\n",
    "# _out = torch.tensor(np.asarray(out_tf))\n",
    "# out = model.Llinear(out)\n",
    "# out_tf = tf.compat.v1.nn.xw_plus_b(out_tf, np.transpose(tffc_weight), np.zeros(27, dtype=np.float32).flatten())\n",
    "# _out = torch.tensor(np.asarray(out_tf))"
   ]
  },
  {
   "cell_type": "code",
   "execution_count": 30,
   "metadata": {},
   "outputs": [
    {
     "name": "stdout",
     "output_type": "stream",
     "text": [
      "0.8888888888888888\n"
     ]
    },
    {
     "data": {
      "image/png": "[encoded data removed]",
      "text/plain": [
       "<Figure size 2400x600 with 4 Axes>"
      ]
     },
     "metadata": {},
     "output_type": "display_data"
    },
    {
     "data": {
      "image/png": "[encoded data removed]",
      "text/plain": [
       "<Figure size 2400x600 with 8 Axes>"
      ]
     },
     "metadata": {},
     "output_type": "display_data"
    }
   ],
   "source": [
    "\n",
    "\n",
    "model.Lconv1.weight.data = fconv1_weight\n",
    "model.Lconv2.weight.data = fconv2_weight\n",
    "model.Llinear.weight.data = ffc_weight\n",
    "acc = 0\n",
    "sam = 0\n",
    "import matplotlib.pyplot as plt \n",
    "for i, (feature, label) in enumerate(cal_dataset):\n",
    "    # print(i)\n",
    "    sam += 1\n",
    "    # print(feature)\n",
    "    with torch.no_grad():\n",
    "        feature = torch.unsqueeze(feature, dim=0)\n",
    "        feature = torch.unsqueeze(feature, dim=0)\n",
    "        feature.requires_grad = False\n",
    "        # output = model(feature)\n",
    "        x = model.Lconv1(feature)\n",
    "        if i == 0:\n",
    "            plt.subplots(1, 4, figsize = (24, 6))\n",
    "            plt.subplot(1, 4, 1)\n",
    "            plt.hist(x[0, 0, :, : ])\n",
    "            plt.subplot(1, 4, 2)\n",
    "            plt.hist(x[0, 1, :, : ])\n",
    "            plt.subplot(1, 4, 3)\n",
    "            plt.hist(x[0, 2, :, : ])\n",
    "            plt.subplot(1, 4, 4)\n",
    "            plt.hist(x[0, 3, :, : ])\n",
    "        x = torch.nn.ReLU()(x)\n",
    "        \n",
    "        \n",
    "\n",
    "        \n",
    "        x = torch.nn.MaxPool2d(2, 2)(x)\n",
    "        \n",
    "        x = model.Lconv2(x)\n",
    "        \n",
    "        \n",
    "        x = torch.nn.ReLU()(x)\n",
    "        if i == 0:\n",
    "            plt.subplots(2, 4, figsize = (24, 6))\n",
    "            plt.subplot(2, 4, 1)\n",
    "            plt.hist(x[0, 0, :, : ])\n",
    "            plt.subplot(2, 4, 2)\n",
    "            plt.hist(x[0, 1, :, : ])\n",
    "            plt.subplot(2, 4, 3)\n",
    "            plt.hist(x[0, 2, :, : ])\n",
    "            plt.subplot(2, 4, 4)\n",
    "            plt.hist(x[0, 3, :, : ])\n",
    "            plt.subplot(2, 4, 5)\n",
    "            plt.hist(x[0, 4, :, : ])\n",
    "            plt.subplot(2, 4, 6)\n",
    "            plt.hist(x[0, 5, :, : ])\n",
    "            plt.subplot(2, 4, 7)\n",
    "            plt.hist(x[0, 6, :, : ])\n",
    "            plt.subplot(2, 4, 8)\n",
    "            plt.hist(x[0, 7, :, : ])\n",
    "        x = torch.nn.MaxPool2d(2, 2)(x)\n",
    "        \n",
    "        \n",
    "        x = x.permute(0, 2, 3, 1)\n",
    "        x = torch.nn.Flatten()(x)\n",
    "        output = model.Llinear(x)\n",
    "        if i == 0:\n",
    "            plt.hist(output)\n",
    "        \n",
    "        _, prediction = torch.max(output, 1)\n",
    "        if prediction.item() == label:\n",
    "            acc += 1\n",
    "        # print(prediction)\n",
    "print(acc/sam)\n",
    "\n"
   ]
  },
  {
   "cell_type": "code",
   "execution_count": 31,
   "metadata": {},
   "outputs": [],
   "source": [
    "conv1_weight = np.load(\"H:\\\\tensorflow\\\\flow\\weights\\conv1.npy\")\n",
    "# print(conv1_weight)\n",
    "conv2_weight = np.load(\"H:\\\\tensorflow\\\\flow\\weights\\conv2.npy\")\n",
    "fc_weight = np.load(\"H:\\\\tensorflow\\\\flow\\weights\\\\fc.npy\")\n",
    "# print(conv1_weight.shape)\n",
    "conv1_weight=torch.tensor(conv1_weight).permute(0, 3, 1, 2).to(torch.float32)\n",
    "conv2_weight=torch.tensor(conv2_weight).permute(0, 3, 1, 2).to(torch.float32)\n",
    "fc_weight=torch.tensor(fc_weight).to(torch.float32)\n",
    "\n",
    "np.save(\"H:\\\\tensorflow\\\\torch\\weights\\conv1.npy\", np.asarray(conv1_weight))\n",
    "np.save(\"H:\\\\tensorflow\\\\torch\\weights\\conv2.npy\", np.asarray(conv2_weight))\n",
    "np.save(\"H:\\\\tensorflow\\\\torch\\weights\\\\fc.npy\", np.asarray(fc_weight))\n",
    "\n",
    "# scale_conv1 = [0.00283895, 0.00060151, 0.00108942, 0.00074077]\n",
    "# scale_conv2 = [0.00349254, 0.00229409, 0.00524954, 0.03148467, 0.00378907, 0.01036217, 0.00376472, 0.01108783]\n",
    "# scale_fc = [0.05203861]\n",
    "# for j in range(4):  \n",
    "#     conv1_weight[j, 0, :, :] = conv1_weight[j, 0, :, :]*scale_conv1[j]\n",
    "# for j in range(8):\n",
    "#     conv2_weight[j, :, :, :] = conv2_weight[j, :, :, :]*scale_conv2[j]\n",
    "# fc_weight = fc_weight*scale_fc[0]\n",
    "\n",
    "model.Lconv1.weight.data = conv1_weight\n",
    "model.Lconv2.weight.data = conv2_weight\n",
    "model.Llinear.weight.data = fc_weight\n"
   ]
  },
  {
   "cell_type": "code",
   "execution_count": 32,
   "metadata": {},
   "outputs": [
    {
     "name": "stdout",
     "output_type": "stream",
     "text": [
      "0.7703703703703704\n"
     ]
    },
    {
     "data": {
      "image/png": "[encoded data removed]",
      "text/plain": [
       "<Figure size 1600x400 with 4 Axes>"
      ]
     },
     "metadata": {},
     "output_type": "display_data"
    }
   ],
   "source": [
    "acc = 0\n",
    "sam = 0\n",
    "\n",
    "\n",
    "for i, (feature, label) in enumerate(cal_dataset):\n",
    "    with torch.no_grad():\n",
    "        sam += 1\n",
    "        feature = torch.unsqueeze(feature, dim=0)\n",
    "        feature = torch.unsqueeze(feature, dim=0)\n",
    "        \n",
    "        x = model.Lconv1(feature)\n",
    "        x = x / 2**2  - 128\n",
    "        x = x.to(torch.int32)\n",
    "        \n",
    "    \n",
    "        # x = (x & 0xFF)\n",
    "        x = x.to(torch.float32) \n",
    "        if i ==0:\n",
    "            plt.subplots(1, 4, figsize = (16, 4))\n",
    "            plt.subplot(1, 4, 1)\n",
    "            plt.hist(x[0, 0, :, :])\n",
    "            plt.subplot(1, 4, 2)\n",
    "            plt.hist(x[0, 1, :, :])\n",
    "            plt.subplot(1, 4, 3)\n",
    "            plt.hist(x[0, 2, :, :])\n",
    "            plt.subplot(1, 4, 4)\n",
    "            plt.hist(x[0, 3, :, :])\n",
    "        x = torch.nn.ReLU()(x)\n",
    "        x = torch.nn.MaxPool2d(2, 2)(x) \n",
    "        x = model.Lconv2(x)\n",
    "        x = x / 2**3 - 128\n",
    "        x = x.to(torch.int32)\n",
    "        # x = (x & 0xFF)\n",
    "        x = x.to(torch.float32)\n",
    "        x = torch.nn.ReLU()(x)\n",
    "        x = torch.nn.MaxPool2d(2, 2)(x)\n",
    "        \n",
    "        \n",
    "        \n",
    "        \n",
    "        x = x.permute(0, 2, 3, 1)\n",
    "        x = torch.nn.Flatten()(x)\n",
    "        x = model.Llinear(x)\n",
    "        # x = x / 1.1237616539001465 + 64\n",
    "        x = x.to(torch.int32)\n",
    "        # x = (x & 0xFF)\n",
    "        x = x.to(torch.float32)\n",
    "        \n",
    "        _, prediction = torch.max(x, 1)\n",
    "        if prediction.item() == label:\n",
    "            acc += 1\n",
    "print(acc / sam)\n",
    "\n",
    "def trunc_conv1(x):\n",
    "    x = x / 2**6\n",
    "    return x"
   ]
  },
  {
   "cell_type": "code",
   "execution_count": 34,
   "metadata": {},
   "outputs": [
    {
     "name": "stdout",
     "output_type": "stream",
     "text": [
      "0.7703703703703704\n"
     ]
    }
   ],
   "source": [
    "acc = 0\n",
    "sam = 0\n",
    "g_pth = \"H:\\\\tensorflow\\\\torch\"\n",
    "l_pth = [\"\\conv1\", \"\\\\relu1\", \"\\pool1\", \"\\conv2\", \"\\\\relu2\", \"\\pool2\",\"\\permute\", \"\\\\flatten\", \"\\dense\"]\n",
    "# plt.subplots(3, 5, figsize = (20, 4))\n",
    "for i, (feature, label) in enumerate(cal_dataset):\n",
    "    j = 0\n",
    "    with torch.no_grad():\n",
    "        sam += 1\n",
    "        feature = torch.unsqueeze(feature, dim=0)\n",
    "        feature = torch.unsqueeze(feature, dim=0)\n",
    "        \n",
    "        x = model.Lconv1(feature)\n",
    "        x = x / 2**2  - 128\n",
    "        x = x/ 2**5\n",
    "        x = torch.clamp(x, -128, 127)\n",
    "        x = x.to(torch.int8)\n",
    "        npx = np.save(f\"{g_pth+l_pth[j]+l_pth[j]}_{i}.npy\",np.asarray(x))\n",
    "        j += 1\n",
    "        x = x.to(torch.float32) \n",
    "\n",
    "        \n",
    "        x = torch.nn.ReLU()(x)\n",
    "        npx = np.save(f\"{g_pth+l_pth[j]+l_pth[j]}_{i}.npy\",np.asarray(x))\n",
    "        j += 1\n",
    "        \n",
    "        x = torch.nn.MaxPool2d(2, 2)(x) \n",
    "        npx = np.save(f\"{g_pth+l_pth[j]+l_pth[j]}_{i}.npy\",np.asarray(x))\n",
    "        j += 1\n",
    "        \n",
    "        x = model.Lconv2(x)\n",
    "        x = x / 2**3 - 128\n",
    "        x = x/ 2**5\n",
    "        x = torch.clamp(x, -128, 127)\n",
    "        x = x.to(torch.int8)\n",
    "        npx = np.save(f\"{g_pth+l_pth[j]+l_pth[j]}_{i}.npy\",np.asarray(x))\n",
    "        j += 1\n",
    "        \n",
    "        \n",
    "        \n",
    "    \n",
    "        x = x.to(torch.float32)\n",
    "        x = torch.nn.ReLU()(x)\n",
    "        npx = np.save(f\"{g_pth+l_pth[j]+l_pth[j]}_{i}.npy\",np.asarray(x))\n",
    "        j += 1\n",
    "        \n",
    "        x = torch.nn.MaxPool2d(2, 2)(x)\n",
    "        npx = np.save(f\"{g_pth+l_pth[j]+l_pth[j]}_{i}.npy\",np.asarray(x))\n",
    "        j += 1\n",
    "        \n",
    "        \n",
    "        \n",
    "        \n",
    "        x = x.permute(0, 2, 3, 1)\n",
    "        npx = np.save(f\"{g_pth+l_pth[j]+l_pth[j]}_{i}.npy\",np.asarray(x))\n",
    "        j += 1\n",
    "        x = torch.nn.Flatten()(x)\n",
    "        npx = np.save(f\"{g_pth+l_pth[j]+l_pth[j]}_{i}.npy\",np.asarray(x))\n",
    "        j += 1\n",
    "        \n",
    "        x = model.Llinear(x)\n",
    "        x = x / 2**4\n",
    "        x = torch.clamp(x, -128, 127)\n",
    "        x = x.to(torch.int8)\n",
    "        npx = np.save(f\"{g_pth+l_pth[j]+l_pth[j]}_{i}.npy\",np.asarray(x))\n",
    "        j += 1\n",
    "        x = x.to(torch.float32)\n",
    "        \n",
    "        _, prediction = torch.max(x, 1)\n",
    "        if prediction.item() == label:\n",
    "            acc += 1\n",
    "print(acc / sam)\n",
    "        \n",
    "        \n",
    "            "
   ]
  },
  {
   "cell_type": "code",
   "execution_count": null,
   "metadata": {},
   "outputs": [],
   "source": []
  }
 ],
 "metadata": {
  "kernelspec": {
   "display_name": "Flow",
   "language": "python",
   "name": "python3"
  },
  "language_info": {
   "codemirror_mode": {
    "name": "ipython",
    "version": 3
   },
   "file_extension": ".py",
   "mimetype": "text/x-python",
   "name": "python",
   "nbconvert_exporter": "python",
   "pygments_lexer": "ipython3",
   "version": "3.10.11"
  }
 },
 "nbformat": 4,
 "nbformat_minor": 2
}
